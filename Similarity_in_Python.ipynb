{
  "nbformat": 4,
  "nbformat_minor": 0,
  "metadata": {
    "colab": {
      "name": "Similarity-in-Python.ipynb",
      "version": "0.3.2",
      "provenance": [],
      "include_colab_link": true
    },
    "kernelspec": {
      "name": "python3",
      "display_name": "Python 3"
    }
  },
  "cells": [
    {
      "cell_type": "markdown",
      "metadata": {
        "id": "view-in-github",
        "colab_type": "text"
      },
      "source": [
        "<a href=\"https://colab.research.google.com/github/Bollegala/COMP527-DM/blob/master/Similarity_in_Python.ipynb\" target=\"_parent\"><img src=\"https://colab.research.google.com/assets/colab-badge.svg\" alt=\"Open In Colab\"/></a>"
      ]
    },
    {
      "metadata": {
        "id": "39BD5ZytKqX0",
        "colab_type": "text"
      },
      "cell_type": "markdown",
      "source": [
        "This notebook shows how to use Python for manuplulating texts. Specifically, we will represent sentences using Python lists and measure similarity between two sentences using the Jaccard coeffieint.\n"
      ]
    },
    {
      "metadata": {
        "id": "E8gOlR6iLAKB",
        "colab_type": "code",
        "colab": {}
      },
      "cell_type": "code",
      "source": [
        "s1 = \"I like Data Mining\""
      ],
      "execution_count": 0,
      "outputs": []
    },
    {
      "metadata": {
        "id": "gLzUySDzLFiq",
        "colab_type": "code",
        "colab": {}
      },
      "cell_type": "code",
      "source": [
        "s2 = \"I hate data mining\""
      ],
      "execution_count": 0,
      "outputs": []
    },
    {
      "metadata": {
        "id": "ioWyMjZsLWw1",
        "colab_type": "text"
      },
      "cell_type": "markdown",
      "source": [
        "Let us conver the two sentences to lowercase and represent using Python lists. If you are unfamilar with Python refer https://docs.python.org/3/tutorial/ \n",
        "\n",
        "If you are unfamilar with any of the functions being used check the Python API https://docs.python.org/3/library/\n"
      ]
    },
    {
      "metadata": {
        "id": "aumTPS5nMh7q",
        "colab_type": "code",
        "colab": {}
      },
      "cell_type": "code",
      "source": [
        "v1 = s1.lower().split()\n",
        "v2 = s2.lower().split()"
      ],
      "execution_count": 0,
      "outputs": []
    },
    {
      "metadata": {
        "id": "Z3XhfjfzMqOs",
        "colab_type": "code",
        "colab": {
          "base_uri": "https://localhost:8080/",
          "height": 53
        },
        "outputId": "0c15752a-3c94-43d5-d8ac-1d14c460f6da"
      },
      "cell_type": "code",
      "source": [
        "print(\"first sentence\", v1)\n",
        "print(\"second sentence\", v2)"
      ],
      "execution_count": 6,
      "outputs": [
        {
          "output_type": "stream",
          "text": [
            "first sentence ['i', 'like', 'data', 'mining']\n",
            "second sentence ['i', 'hate', 'data', 'mining']\n"
          ],
          "name": "stdout"
        }
      ]
    },
    {
      "metadata": {
        "id": "emE8mN3NM6wu",
        "colab_type": "text"
      },
      "cell_type": "markdown",
      "source": [
        "Jaccard coefficient between two sets A and B is computed as follows:\n",
        "${\\rm Jaccard}(A,B)  = \\frac{|A \\cup B|}{|A \\cap B|}$\n",
        "\n",
        "We will convert the two lists to sets and the calculate Jaccard coeffieint now.\n"
      ]
    },
    {
      "metadata": {
        "id": "QfxDs1AyM1B5",
        "colab_type": "code",
        "colab": {
          "base_uri": "https://localhost:8080/",
          "height": 35
        },
        "outputId": "77be896d-56b5-4073-985b-512c634adefa"
      },
      "cell_type": "code",
      "source": [
        "A = set(v1)\n",
        "B = set(v2)\n",
        "Jaccard = len(A.intersection(B)) / len(A.union(B))\n",
        "print(\"Jaccard coefficient =\", Jaccard)"
      ],
      "execution_count": 7,
      "outputs": [
        {
          "output_type": "stream",
          "text": [
            "Jaccard coefficient = 0.6\n"
          ],
          "name": "stdout"
        }
      ]
    },
    {
      "metadata": {
        "id": "FVnoEZKfN7FO",
        "colab_type": "text"
      },
      "cell_type": "markdown",
      "source": [
        "Task 1: Try different sentences and compute their Jaccard coefficients. Do you think Jaccard coefficient is a good way to measure similarity between two sentences? Justify your answer.\n",
        "Hints: Think about sentences \"Jack killed Mary\" vs. \"Mary killed Jack\". \n",
        "\n",
        "Task 2: Can you suggest ways to address any issues that you idenified in Task 1 and implement them in Python?"
      ]
    },
    {
      "metadata": {
        "id": "_O70vqhON08N",
        "colab_type": "code",
        "colab": {}
      },
      "cell_type": "code",
      "source": [
        "()"
      ],
      "execution_count": 0,
      "outputs": []
    }
  ]
}